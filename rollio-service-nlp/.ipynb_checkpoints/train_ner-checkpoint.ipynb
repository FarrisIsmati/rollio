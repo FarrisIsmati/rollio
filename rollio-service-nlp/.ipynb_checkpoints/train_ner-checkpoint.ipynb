{
 "cells": [
  {
   "cell_type": "code",
   "execution_count": 1,
   "metadata": {},
   "outputs": [],
   "source": [
    "# Imports Train\n",
    "PATH = './tweet_model'\n",
    "from tweet_ner_data_label import train_data"
   ]
  },
  {
   "cell_type": "code",
   "execution_count": 2,
   "metadata": {},
   "outputs": [],
   "source": [
    "# Imports & Dependencies\n",
    "from __future__ import unicode_literals, print_function\n",
    "\n",
    "import plac\n",
    "import random\n",
    "import warnings\n",
    "from pathlib import Path\n",
    "import spacy\n",
    "from spacy.util import minibatch, compounding"
   ]
  },
  {
   "cell_type": "code",
   "execution_count": 3,
   "metadata": {},
   "outputs": [],
   "source": [
    "# Update original data to include Normal NER Tags to prevent forgetting problem\n",
    "nlp = spacy.load('en_core_web_sm')"
   ]
  },
  {
   "cell_type": "code",
   "execution_count": 43,
   "metadata": {},
   "outputs": [
    {
     "name": "stdout",
     "output_type": "stream",
     "text": [
      "1\n",
      "1\n",
      "1\n",
      "1\n",
      "1\n",
      "[('Hash Tag galoreWe are serving Lunch at Franklin Square today. Features: Southern Fried Fish, Shrimp &amp; Cheese Grits… https://t.co/iX7xxjEvER', {'entities': [(39, 54, 'TRUCK_LOCATION'), (30, 35, 'NORP'), (55, 60, 'DATE'), (93, 101, 'ORG'), (106, 118, 'PERSON')]})]\n"
     ]
    }
   ],
   "source": [
    "# Checks entities if multiple truck locations\n",
    "def count_locations(ents_arr):\n",
    "    count = 0\n",
    "    \n",
    "    for i in range(0,len(ents_arr)):\n",
    "        cur_ent_type = ents_arr[i][2]\n",
    "        if cur_ent_type == 'TRUCK_LOCATION':\n",
    "            count += 1\n",
    "    \n",
    "    return count\n",
    "    \n",
    "# Adds old NER tags to train data\n",
    "def append_old_ner(train_data):\n",
    "    for i in range(0,len(train_data)):\n",
    "        doc = nlp(train_data[i][0])\n",
    "        ents_arr = train_data[i][1]['entities']\n",
    "        locations_count = count_locations(ents_arr)\n",
    "\n",
    "        for ent in doc.ents:\n",
    "            start = int(ent.start_char)\n",
    "            end = int(ent.end_char)\n",
    "\n",
    "            # Cases\n",
    "            # < Start---End > Bound entire word and more\n",
    "            case1 = lambda: start <= truck_start and end >= truck_end\n",
    "            # < Start>---End< Bound entire left up to end\n",
    "            case2 = lambda: start <= truck_start and end <= truck_end and end >= truck_start\n",
    "            # >Start---<End > Bound entire right up to start\n",
    "            case3 = lambda: end >= truck_end and start >= truck_start and start <= truck_end\n",
    "            \n",
    "            if locations_count == 0:\n",
    "                ents_arr.append((start, end, ent.label_))\n",
    "            else:\n",
    "                continue_outer = False\n",
    "                for j in range(0,locations_count):\n",
    "                    truck_start = int(ents_arr[j][0])\n",
    "                    truck_end = int(ents_arr[j][1])\n",
    "                    \n",
    "                    if case1() or case2() or case3():\n",
    "                        continue_outer = True\n",
    "                        break\n",
    "                \n",
    "                if continue_outer:\n",
    "                    continue\n",
    "                else:\n",
    "                    ents_arr.append((start, end, ent.label_))\n",
    "                    \n",
    "    return train_data\n",
    "\n",
    "train_data = append_old_ner(train_data)"
   ]
  },
  {
   "cell_type": "code",
   "execution_count": 27,
   "metadata": {},
   "outputs": [
    {
     "name": "stdout",
     "output_type": "stream",
     "text": [
      "(\"Come celebrate the holidays tonight with El Capitan @ the Annapolis Towne Centre's Fire &amp; Ice Festivals from 4-8. Mmmmm coookieeee! 😍🍪😋\", {'entities': [(54, 80, 'TRUCK_LOCATION'), (15, 27, 'TIME'), (28, 35, 'TIME'), (41, 51, 'GPE'), (54, 82, 'ORG'), (83, 89, 'ORG'), (94, 107, 'ORG'), (113, 114, 'CARDINAL')]})\n"
     ]
    }
   ],
   "source": [
    "# Validate old NER Tags\n",
    "print(train_data[562])"
   ]
  },
  {
   "cell_type": "code",
   "execution_count": 28,
   "metadata": {},
   "outputs": [],
   "source": [
    "# Load model if exists\n",
    "def load_model(model=None):\n",
    "    \"\"\"Load the model, set up the pipeline and train the entity recognizer.\"\"\"\n",
    "    if model is not None:\n",
    "        nlp = spacy.load(model)  # load existing spaCy model\n",
    "        print(\"Loaded model '%s'\" % model)\n",
    "    else:\n",
    "        nlp = spacy.blank(\"en\")  # create blank Language class\n",
    "        print(\"Created blank 'en' model\")\n",
    "    \n",
    "    return nlp\n",
    "\n",
    "# Train update Spacy's NER\n",
    "def train_NER(train_data, iterations, model=None):\n",
    "    TRAIN_DATA = train_data\n",
    "    \n",
    "    # Set language to only Text in tweets\n",
    "    nlp = load_model(model)\n",
    "    \n",
    "    # create the built-in pipeline components and add them to the pipeline\n",
    "    # nlp.create_pipe works for built-ins that are registered with spaCy\n",
    "    if \"ner\" not in nlp.pipe_names:\n",
    "        ner = nlp.create_pipe(\"ner\")\n",
    "        nlp.add_pipe(ner, last=True)\n",
    "    # otherwise, get it so we can add labels\n",
    "    else:\n",
    "        ner = nlp.get_pi\n",
    "        \n",
    "    # add new labels eg: using TRUCK_LOCATION\n",
    "    for _, annotations in TRAIN_DATA:\n",
    "        for ent in annotations.get(\"entities\"):\n",
    "            ner.add_label(ent[2])\n",
    "    \n",
    "    # get names of other pipes to disable them during training\n",
    "    pipe_exceptions = [\"ner\", \"trf_wordpiecer\", \"trf_tok2vec\"]\n",
    "    other_pipes = [pipe for pipe in nlp.pipe_names if pipe not in pipe_exceptions]\n",
    "    \n",
    "    # only train NER\n",
    "    with nlp.disable_pipes(*other_pipes), warnings.catch_warnings():\n",
    "        # show warnings for misaligned entity spans once\n",
    "        warnings.filterwarnings(\"once\", category=UserWarning, module='spacy')\n",
    "\n",
    "        # reset and initialize the weights randomly – but only if we're\n",
    "        # training a new model\n",
    "        if model is None:\n",
    "            nlp.begin_training()\n",
    "        for itn in range(iterations):\n",
    "            random.shuffle(TRAIN_DATA)\n",
    "            losses = {}\n",
    "            # batch up the examples using spaCy's minibatch\n",
    "            batches = minibatch(TRAIN_DATA, size=compounding(4.0, 32.0, 1.001))\n",
    "            for batch in batches:\n",
    "                texts, annotations = zip(*batch)\n",
    "                nlp.update(\n",
    "                    texts,  # batch of texts\n",
    "                    annotations,  # batch of annotations\n",
    "                    drop=0.2,  # dropout - make it harder to memorise data\n",
    "                    losses=losses,\n",
    "                )\n",
    "            print(\"Losses\", losses)\n",
    "            \n",
    "    return nlp"
   ]
  },
  {
   "cell_type": "code",
   "execution_count": 29,
   "metadata": {},
   "outputs": [
    {
     "name": "stdout",
     "output_type": "stream",
     "text": [
      "Created blank 'en' model\n",
      "Warning: Unnamed vectors -- this won't allow multiple vectors models to be loaded. (Shape: (0, 0))\n",
      "Losses {'ner': 568.0590568321777}\n",
      "Losses {'ner': 372.42172231524745}\n",
      "Losses {'ner': 296.9194610048229}\n",
      "Losses {'ner': 249.23931410783047}\n",
      "Losses {'ner': 207.7893758952677}\n"
     ]
    }
   ],
   "source": [
    "# Train Data\n",
    "nlp = train_NER(train_data, 5)"
   ]
  },
  {
   "cell_type": "code",
   "execution_count": 30,
   "metadata": {},
   "outputs": [],
   "source": [
    "# Review NER Results\n",
    "def show_ents(doc):\n",
    "    doc = nlp(doc[0])\n",
    "    if doc.ents:\n",
    "        for ent in doc.ents:\n",
    "            print(ent.text + ' - ' + ent.label_)\n",
    "    else:\n",
    "        print('No entities found')"
   ]
  },
  {
   "cell_type": "code",
   "execution_count": 36,
   "metadata": {},
   "outputs": [
    {
     "name": "stdout",
     "output_type": "stream",
     "text": [
      "('Hash Tag galoreWe are serving Lunch at Franklin Square today. Features: Southern Fried Fish, Shrimp Po Boy. You ca… https://t.co/7Tah0KkPAa', {'entities': [(39, 54, 'TRUCK_LOCATION'), (30, 35, 'NORP'), (39, 54, 'FAC'), (55, 60, 'DATE')]})\n",
      "\n",
      "Lunch - NORP\n",
      "Franklin Square - FAC\n",
      "today - DATE\n",
      "Buildings, airports, highways, bridges, etc.\n"
     ]
    }
   ],
   "source": [
    "# Test across subset of tweets\n",
    "# for i in range(0,10):\n",
    "#     show_ents(train_data[i])\n",
    "#     print(\"\")\n",
    "    \n",
    "print(train_data[89])\n",
    "print('')\n",
    "show_ents(train_data[89])\n"
   ]
  },
  {
   "cell_type": "code",
   "execution_count": 11,
   "metadata": {},
   "outputs": [
    {
     "name": "stdout",
     "output_type": "stream",
     "text": [
      "Entities in 'Today we are at Farragut Square'\n",
      "DATE Today\n",
      "TRUCK_LOCATION Farragut Square\n"
     ]
    }
   ],
   "source": [
    "# Manually test the trained model\n",
    "test_text = \"Today we are at Farragut Square\"\n",
    "doc = nlp(test_text)\n",
    "print(\"Entities in '%s'\" % test_text)\n",
    "for ent in doc.ents:\n",
    "    print(ent.label_, ent.text)"
   ]
  },
  {
   "cell_type": "code",
   "execution_count": 26,
   "metadata": {},
   "outputs": [],
   "source": [
    "# Save model to output directory\n",
    "def save_model(nlp, output_dir, name):\n",
    "    if output_dir is not None:\n",
    "        output_dir = Path(output_dir)\n",
    "        if not output_dir.exists():\n",
    "            output_dir.mkdir()\n",
    "        nlp.meta[name] = new_model_name  # rename model\n",
    "        nlp.to_disk(output_dir)\n",
    "        print(\"Saved model to\", output_dir)\n",
    "\n",
    "        # test the saved model\n",
    "        print(\"Loading from\", output_dir)\n",
    "        nlp2 = spacy.load(output_dir)\n",
    "        # Check the classes have loaded back consistently\n",
    "        assert nlp2.get_pipe(\"ner\").move_names == move_names\n",
    "        doc2 = nlp2(test_text)\n",
    "        for ent in doc2.ents:\n",
    "            print(ent.label_, ent.text)"
   ]
  },
  {
   "cell_type": "code",
   "execution_count": 27,
   "metadata": {},
   "outputs": [
    {
     "ename": "NameError",
     "evalue": "name 'new_model_name' is not defined",
     "output_type": "error",
     "traceback": [
      "\u001b[0;31m---------------------------------------------------------------------------\u001b[0m",
      "\u001b[0;31mNameError\u001b[0m                                 Traceback (most recent call last)",
      "\u001b[0;32m<ipython-input-27-9776ffeabea8>\u001b[0m in \u001b[0;36m<module>\u001b[0;34m\u001b[0m\n\u001b[0;32m----> 1\u001b[0;31m \u001b[0msave_model\u001b[0m\u001b[0;34m(\u001b[0m\u001b[0mnlp\u001b[0m\u001b[0;34m,\u001b[0m \u001b[0;34m'./tweet_model'\u001b[0m\u001b[0;34m,\u001b[0m\u001b[0;34m'ner_1'\u001b[0m\u001b[0;34m)\u001b[0m\u001b[0;34m\u001b[0m\u001b[0;34m\u001b[0m\u001b[0m\n\u001b[0m",
      "\u001b[0;32m<ipython-input-26-edbd68279107>\u001b[0m in \u001b[0;36msave_model\u001b[0;34m(nlp, output_dir, name)\u001b[0m\n\u001b[1;32m      5\u001b[0m         \u001b[0;32mif\u001b[0m \u001b[0;32mnot\u001b[0m \u001b[0moutput_dir\u001b[0m\u001b[0;34m.\u001b[0m\u001b[0mexists\u001b[0m\u001b[0;34m(\u001b[0m\u001b[0;34m)\u001b[0m\u001b[0;34m:\u001b[0m\u001b[0;34m\u001b[0m\u001b[0;34m\u001b[0m\u001b[0m\n\u001b[1;32m      6\u001b[0m             \u001b[0moutput_dir\u001b[0m\u001b[0;34m.\u001b[0m\u001b[0mmkdir\u001b[0m\u001b[0;34m(\u001b[0m\u001b[0;34m)\u001b[0m\u001b[0;34m\u001b[0m\u001b[0;34m\u001b[0m\u001b[0m\n\u001b[0;32m----> 7\u001b[0;31m         \u001b[0mnlp\u001b[0m\u001b[0;34m.\u001b[0m\u001b[0mmeta\u001b[0m\u001b[0;34m[\u001b[0m\u001b[0mname\u001b[0m\u001b[0;34m]\u001b[0m \u001b[0;34m=\u001b[0m \u001b[0mnew_model_name\u001b[0m  \u001b[0;31m# rename model\u001b[0m\u001b[0;34m\u001b[0m\u001b[0;34m\u001b[0m\u001b[0m\n\u001b[0m\u001b[1;32m      8\u001b[0m         \u001b[0mnlp\u001b[0m\u001b[0;34m.\u001b[0m\u001b[0mto_disk\u001b[0m\u001b[0;34m(\u001b[0m\u001b[0moutput_dir\u001b[0m\u001b[0;34m)\u001b[0m\u001b[0;34m\u001b[0m\u001b[0;34m\u001b[0m\u001b[0m\n\u001b[1;32m      9\u001b[0m         \u001b[0mprint\u001b[0m\u001b[0;34m(\u001b[0m\u001b[0;34m\"Saved model to\"\u001b[0m\u001b[0;34m,\u001b[0m \u001b[0moutput_dir\u001b[0m\u001b[0;34m)\u001b[0m\u001b[0;34m\u001b[0m\u001b[0;34m\u001b[0m\u001b[0m\n",
      "\u001b[0;31mNameError\u001b[0m: name 'new_model_name' is not defined"
     ]
    }
   ],
   "source": [
    "save_model(nlp,'./tweet_model','ner_1')"
   ]
  },
  {
   "cell_type": "code",
   "execution_count": null,
   "metadata": {},
   "outputs": [],
   "source": []
  }
 ],
 "metadata": {
  "kernelspec": {
   "display_name": "Python [conda env:nlp_course] *",
   "language": "python",
   "name": "conda-env-nlp_course-py"
  },
  "language_info": {
   "codemirror_mode": {
    "name": "ipython",
    "version": 3
   },
   "file_extension": ".py",
   "mimetype": "text/x-python",
   "name": "python",
   "nbconvert_exporter": "python",
   "pygments_lexer": "ipython3",
   "version": "3.7.9"
  }
 },
 "nbformat": 4,
 "nbformat_minor": 4
}
