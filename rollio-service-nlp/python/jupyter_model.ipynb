{
 "cells": [
  {
   "cell_type": "code",
   "execution_count": 177,
   "metadata": {},
   "outputs": [],
   "source": [
    "# Imports Train\n",
    "from tweet_data_label import train_data"
   ]
  },
  {
   "cell_type": "code",
   "execution_count": 178,
   "metadata": {},
   "outputs": [],
   "source": [
    "# Imports Dependencies\n",
    "import spacy\n",
    "import re\n",
    "import numpy as np\n",
    "\n",
    "from keras.preprocessing.text import Tokenizer\n",
    "from keras.preprocessing.sequence import pad_sequences\n",
    "\n",
    "from sklearn.model_selection import train_test_split\n",
    "from sklearn.preprocessing import MinMaxScaler\n",
    "\n",
    "from keras.utils import to_categorical\n",
    "from keras.models import Sequential\n",
    "from keras.layers import Dense\n",
    "from keras.layers import Flatten\n",
    "\n",
    "from sklearn.metrics import confusion_matrix, classification_report, accuracy_score"
   ]
  },
  {
   "cell_type": "code",
   "execution_count": 179,
   "metadata": {},
   "outputs": [],
   "source": [
    "# Quick Validation on Tweet Data\n",
    "def tweet_data_validate(data):\n",
    "    print(f'Length: {len(data)}')"
   ]
  },
  {
   "cell_type": "code",
   "execution_count": 180,
   "metadata": {},
   "outputs": [
    {
     "name": "stdout",
     "output_type": "stream",
     "text": [
      "Length: 101\n"
     ]
    }
   ],
   "source": [
    "tweet_data_validate(train_data)"
   ]
  },
  {
   "cell_type": "code",
   "execution_count": 181,
   "metadata": {},
   "outputs": [],
   "source": [
    "# Load up spACY library\n",
    "nlp = spacy.load('en')"
   ]
  },
  {
   "cell_type": "code",
   "execution_count": 182,
   "metadata": {},
   "outputs": [],
   "source": [
    "# Organize Tweet Data\n",
    "def tweet_clean(text):\n",
    "    lower = []\n",
    "    text = text.replace('&amp;', 'and')\n",
    "\n",
    "    for token in nlp(text):\n",
    "        lower.append(token.text.lower())\n",
    "            \n",
    "    return lower\n",
    "\n",
    "def organize_tweet_data(train_data):\n",
    "    affirmation_map = {\n",
    "        'POSITIVE': 0,\n",
    "        'NEGATIVE': 1,\n",
    "        'NULL': 2\n",
    "    }\n",
    "    tweet_sequences = []\n",
    "    target_affirm = []\n",
    "\n",
    "    # Organize tweets & train data into arrays\n",
    "    for tweet_data in train_data:\n",
    "        tweet_sequences.append(tweet_clean(tweet_data[0]))\n",
    "        affirmation = tweet_data[1]['affirmation'][0][0] # Only first affirmation\n",
    "        target_affirm.append(affirmation_map[affirmation])\n",
    "        \n",
    "    return [tweet_sequences, target_affirm]"
   ]
  },
  {
   "cell_type": "code",
   "execution_count": 183,
   "metadata": {},
   "outputs": [],
   "source": [
    "# Tokenize & Pad Tweet Data\n",
    "tweet_sequences, target_affirm = organize_tweet_data(train_data)\n",
    "\n",
    "tokenizer = Tokenizer()\n",
    "\n",
    "def tokenize_tweets(tokenizer, data):\n",
    "    tokenizer.fit_on_texts(data)\n",
    "    \n",
    "    return tokenizer.texts_to_sequences(data)\n",
    "    \n",
    "def create_padded_array(length):\n",
    "    zeros_arr = []\n",
    "\n",
    "    i = 0\n",
    "    while i < length:\n",
    "        zeros_arr.append(0)\n",
    "        i += 1\n",
    "\n",
    "    return zeros_arr\n",
    "\n",
    "def pad_tokenized_tweets(data):\n",
    "    max_len = 0\n",
    "\n",
    "    # Find longest sequence, pad everything to its length\n",
    "    for sequence in data:\n",
    "        seq_len = len(sequence)\n",
    "        if seq_len > max_len:\n",
    "            max_len = seq_len\n",
    "\n",
    "    zeros_to_add = max_len - len(data)\n",
    "    zeros_arr = create_padded_array(zeros_to_add)\n",
    "\n",
    "    return [*sequence,*zeros_arr]\n",
    "\n",
    "tokenized_data = tokenize_tweets(tokenizer, tweet_sequences)\n",
    "pad_tokenized_tweets(tokenized_data)\n",
    "\n",
    "X = [pad_zeros(sequence) for sequence in sequences_x]"
   ]
  },
  {
   "cell_type": "code",
   "execution_count": 184,
   "metadata": {},
   "outputs": [
    {
     "name": "stdout",
     "output_type": "stream",
     "text": [
      "640\n"
     ]
    }
   ],
   "source": [
    "# Check size of tokenized vocab\n",
    "vocab_size = len(tokenizer.index_word)\n",
    "print(vocab_size)"
   ]
  },
  {
   "cell_type": "code",
   "execution_count": 185,
   "metadata": {},
   "outputs": [],
   "source": [
    "# Convert tokenized data to Numpy Array\n",
    "X = np.array(sequences_x)\n",
    "y = to_categorical(target_affirm)"
   ]
  },
  {
   "cell_type": "code",
   "execution_count": 186,
   "metadata": {},
   "outputs": [
    {
     "name": "stdout",
     "output_type": "stream",
     "text": [
      "X shape: (101, 34)\n",
      "y shape: (101, 3)\n"
     ]
    }
   ],
   "source": [
    "# Validate Data\n",
    "print(f'X shape: {x.shape}')\n",
    "print(f'y shape: {y.shape}')"
   ]
  },
  {
   "cell_type": "code",
   "execution_count": 187,
   "metadata": {},
   "outputs": [],
   "source": [
    "# Setup Train/Test Split\n",
    "X_train, X_test, y_train, y_test = train_test_split(X,y,test_size=0.33,random_state=42)"
   ]
  },
  {
   "cell_type": "code",
   "execution_count": 188,
   "metadata": {},
   "outputs": [
    {
     "name": "stdout",
     "output_type": "stream",
     "text": [
      "X_train\n",
      "X_train len: 67\n",
      "\n",
      "y_train\n",
      "y_train len: 67\n"
     ]
    }
   ],
   "source": [
    "# Validate Data\n",
    "print('X_train')\n",
    "print(f'X_train len: {len(X_train)}')\n",
    "# print(X_train)\n",
    "print('')\n",
    "print('y_train')\n",
    "print(f'y_train len: {len(y_train)}')\n",
    "# print(y_train)\n"
   ]
  },
  {
   "cell_type": "code",
   "execution_count": 189,
   "metadata": {},
   "outputs": [],
   "source": [
    "# Scale Train Data\n",
    "def scale_data():\n",
    "    scaler_object = MinMaxScaler()\n",
    "    scaler_object.fit(X_train)\n",
    "    \n",
    "    scaled_X_train = scaler_object.transform(X_train)\n",
    "    scaled_X_test = scaler_object.transform(X_test)\n",
    "    return [scaled_X_train, scaled_X_test]\n",
    "\n",
    "scaled_X_train, scaled_X_test = scale_data()"
   ]
  },
  {
   "cell_type": "code",
   "execution_count": 190,
   "metadata": {},
   "outputs": [
    {
     "data": {
      "text/plain": [
       "<keras.engine.sequential.Sequential at 0x7f98699d4150>"
      ]
     },
     "execution_count": 190,
     "metadata": {},
     "output_type": "execute_result"
    }
   ],
   "source": [
    "# Setup Training Model\n",
    "def create_model():\n",
    "    model = Sequential()\n",
    "    model.add(Dense(8,input_dim=34,activation='relu'))\n",
    "    model.add(Dense(8,input_dim=34,activation='relu'))\n",
    "    model.add(Dense(3,activation='softmax'))\n",
    "    model.compile(loss='categorical_crossentropy',optimizer='adam',metrics=['accuracy'])\n",
    "    \n",
    "    return model\n",
    "\n",
    "create_model()"
   ]
  },
  {
   "cell_type": "code",
   "execution_count": 191,
   "metadata": {},
   "outputs": [
    {
     "name": "stdout",
     "output_type": "stream",
     "text": [
      "Model: \"sequential_2\"\n",
      "_________________________________________________________________\n",
      "Layer (type)                 Output Shape              Param #   \n",
      "=================================================================\n",
      "dense_4 (Dense)              (None, 8)                 280       \n",
      "_________________________________________________________________\n",
      "dense_5 (Dense)              (None, 8)                 72        \n",
      "_________________________________________________________________\n",
      "dense_6 (Dense)              (None, 3)                 27        \n",
      "=================================================================\n",
      "Total params: 379\n",
      "Trainable params: 379\n",
      "Non-trainable params: 0\n",
      "_________________________________________________________________\n",
      "None\n"
     ]
    }
   ],
   "source": [
    "# Review Model\n",
    "print(model.summary())"
   ]
  },
  {
   "cell_type": "code",
   "execution_count": 192,
   "metadata": {},
   "outputs": [
    {
     "name": "stdout",
     "output_type": "stream",
     "text": [
      "Epoch 1/50\n",
      " - 0s - loss: 0.3614 - accuracy: 0.8657\n",
      "Epoch 2/50\n",
      " - 0s - loss: 0.3603 - accuracy: 0.8657\n",
      "Epoch 3/50\n",
      " - 0s - loss: 0.3590 - accuracy: 0.8657\n",
      "Epoch 4/50\n",
      " - 0s - loss: 0.3577 - accuracy: 0.8657\n",
      "Epoch 5/50\n",
      " - 0s - loss: 0.3566 - accuracy: 0.8657\n",
      "Epoch 6/50\n",
      " - 0s - loss: 0.3557 - accuracy: 0.8657\n",
      "Epoch 7/50\n",
      " - 0s - loss: 0.3542 - accuracy: 0.8657\n",
      "Epoch 8/50\n",
      " - 0s - loss: 0.3529 - accuracy: 0.8657\n",
      "Epoch 9/50\n",
      " - 0s - loss: 0.3518 - accuracy: 0.8657\n",
      "Epoch 10/50\n",
      " - 0s - loss: 0.3502 - accuracy: 0.8657\n",
      "Epoch 11/50\n",
      " - 0s - loss: 0.3491 - accuracy: 0.8657\n",
      "Epoch 12/50\n",
      " - 0s - loss: 0.3481 - accuracy: 0.8657\n",
      "Epoch 13/50\n",
      " - 0s - loss: 0.3467 - accuracy: 0.8657\n",
      "Epoch 14/50\n",
      " - 0s - loss: 0.3454 - accuracy: 0.8657\n",
      "Epoch 15/50\n",
      " - 0s - loss: 0.3441 - accuracy: 0.8657\n",
      "Epoch 16/50\n",
      " - 0s - loss: 0.3431 - accuracy: 0.8657\n",
      "Epoch 17/50\n",
      " - 0s - loss: 0.3421 - accuracy: 0.8657\n",
      "Epoch 18/50\n",
      " - 0s - loss: 0.3412 - accuracy: 0.8657\n",
      "Epoch 19/50\n",
      " - 0s - loss: 0.3405 - accuracy: 0.8657\n",
      "Epoch 20/50\n",
      " - 0s - loss: 0.3392 - accuracy: 0.8657\n",
      "Epoch 21/50\n",
      " - 0s - loss: 0.3385 - accuracy: 0.8657\n",
      "Epoch 22/50\n",
      " - 0s - loss: 0.3381 - accuracy: 0.8657\n",
      "Epoch 23/50\n",
      " - 0s - loss: 0.3371 - accuracy: 0.8657\n",
      "Epoch 24/50\n",
      " - 0s - loss: 0.3355 - accuracy: 0.8657\n",
      "Epoch 25/50\n",
      " - 0s - loss: 0.3341 - accuracy: 0.8657\n",
      "Epoch 26/50\n",
      " - 0s - loss: 0.3322 - accuracy: 0.8657\n",
      "Epoch 27/50\n",
      " - 0s - loss: 0.3313 - accuracy: 0.8657\n",
      "Epoch 28/50\n",
      " - 0s - loss: 0.3300 - accuracy: 0.8657\n",
      "Epoch 29/50\n",
      " - 0s - loss: 0.3290 - accuracy: 0.8657\n",
      "Epoch 30/50\n",
      " - 0s - loss: 0.3276 - accuracy: 0.8657\n",
      "Epoch 31/50\n",
      " - 0s - loss: 0.3267 - accuracy: 0.8657\n",
      "Epoch 32/50\n",
      " - 0s - loss: 0.3252 - accuracy: 0.8657\n",
      "Epoch 33/50\n",
      " - 0s - loss: 0.3241 - accuracy: 0.8806\n",
      "Epoch 34/50\n",
      " - 0s - loss: 0.3233 - accuracy: 0.8806\n",
      "Epoch 35/50\n",
      " - 0s - loss: 0.3224 - accuracy: 0.8806\n",
      "Epoch 36/50\n",
      " - 0s - loss: 0.3215 - accuracy: 0.8806\n",
      "Epoch 37/50\n",
      " - 0s - loss: 0.3208 - accuracy: 0.8806\n",
      "Epoch 38/50\n",
      " - 0s - loss: 0.3202 - accuracy: 0.8806\n",
      "Epoch 39/50\n",
      " - 0s - loss: 0.3193 - accuracy: 0.8806\n",
      "Epoch 40/50\n",
      " - 0s - loss: 0.3184 - accuracy: 0.8806\n",
      "Epoch 41/50\n",
      " - 0s - loss: 0.3176 - accuracy: 0.8806\n",
      "Epoch 42/50\n",
      " - 0s - loss: 0.3168 - accuracy: 0.8806\n",
      "Epoch 43/50\n",
      " - 0s - loss: 0.3157 - accuracy: 0.8806\n",
      "Epoch 44/50\n",
      " - 0s - loss: 0.3148 - accuracy: 0.8806\n",
      "Epoch 45/50\n",
      " - 0s - loss: 0.3138 - accuracy: 0.8806\n",
      "Epoch 46/50\n",
      " - 0s - loss: 0.3131 - accuracy: 0.8806\n",
      "Epoch 47/50\n",
      " - 0s - loss: 0.3122 - accuracy: 0.8806\n",
      "Epoch 48/50\n",
      " - 0s - loss: 0.3115 - accuracy: 0.8806\n",
      "Epoch 49/50\n",
      " - 0s - loss: 0.3111 - accuracy: 0.8806\n",
      "Epoch 50/50\n",
      " - 0s - loss: 0.3103 - accuracy: 0.8806\n"
     ]
    },
    {
     "data": {
      "text/plain": [
       "<keras.callbacks.callbacks.History at 0x7f98697de990>"
      ]
     },
     "execution_count": 192,
     "metadata": {},
     "output_type": "execute_result"
    }
   ],
   "source": [
    "# Train Data\n",
    "model.fit(scaled_X_train,y_train,epochs=50,verbose=2)"
   ]
  },
  {
   "cell_type": "code",
   "execution_count": 194,
   "metadata": {},
   "outputs": [
    {
     "name": "stdout",
     "output_type": "stream",
     "text": [
      "Results\n",
      "X : [0 0 2 2 2 2 0 2 0 2 0 0 2 0 2 2 2 2 0 0 2 2 0 2 0 0 2 0 0 2 0 2 2 0] 34\n",
      "Y : [0 2 2 2 2 2 0 2 0 2 0 0 2 0 2 2 0 2 0 0 2 1 0 2 0 0 2 2 0 2 0 0 2 0]\n",
      "\n",
      "Confusion Matrix\n",
      "[[14  0  2]\n",
      " [ 0  0  1]\n",
      " [ 2  0 15]]\n",
      "\n",
      "Classification Report\n",
      "              precision    recall  f1-score   support\n",
      "\n",
      "           0       0.88      0.88      0.88        16\n",
      "           1       0.00      0.00      0.00         1\n",
      "           2       0.83      0.88      0.86        17\n",
      "\n",
      "    accuracy                           0.85        34\n",
      "   macro avg       0.57      0.59      0.58        34\n",
      "weighted avg       0.83      0.85      0.84        34\n",
      "\n",
      "Accuracy Score\n",
      "0.8529411764705882\n"
     ]
    }
   ],
   "source": [
    "# Predictions\n",
    "model.predict_classes(scaled_X_test)\n",
    "predictions = model.predict_classes(scaled_X_test)\n",
    "\n",
    "print('Results')\n",
    "print(f'X : {predictions} {len(predictions)}')\n",
    "print(f'Y : {y_test.argmax(axis=1)}\\n')\n",
    "\n",
    "print('Confusion Matrix')\n",
    "print(f'{confusion_matrix(y_test.argmax(axis=1),predictions)}\\n')\n",
    "\n",
    "print('Classification Report')\n",
    "print(classification_report(y_test.argmax(axis=1),predictions))\n",
    "\n",
    "print('Accuracy Score')\n",
    "print(accuracy_score(y_test.argmax(axis=1),predictions))"
   ]
  }
 ],
 "metadata": {
  "kernelspec": {
   "display_name": "Python 3",
   "language": "python",
   "name": "python3"
  },
  "language_info": {
   "codemirror_mode": {
    "name": "ipython",
    "version": 3
   },
   "file_extension": ".py",
   "mimetype": "text/x-python",
   "name": "python",
   "nbconvert_exporter": "python",
   "pygments_lexer": "ipython3",
   "version": "3.7.9"
  }
 },
 "nbformat": 4,
 "nbformat_minor": 4
}
