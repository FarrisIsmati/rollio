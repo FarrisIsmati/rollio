{
 "cells": [
  {
   "cell_type": "code",
   "execution_count": 1,
   "metadata": {},
   "outputs": [],
   "source": [
    "# Imports Train\n",
    "PATH = './tweet_model'\n",
    "from tweet_ner_data_label import train_data"
   ]
  },
  {
   "cell_type": "code",
   "execution_count": 2,
   "metadata": {},
   "outputs": [],
   "source": [
    "# Imports & Dependencies\n",
    "from __future__ import unicode_literals, print_function\n",
    "\n",
    "import plac\n",
    "import random\n",
    "import warnings\n",
    "from pathlib import Path\n",
    "import spacy\n",
    "from spacy.util import minibatch, compounding"
   ]
  },
  {
   "cell_type": "code",
   "execution_count": 3,
   "metadata": {},
   "outputs": [],
   "source": [
    "# Update original data to include Normal NER Tags to prevent forgetting problem\n",
    "nlp = spacy.load('en_core_web_sm')"
   ]
  },
  {
   "cell_type": "code",
   "execution_count": 4,
   "metadata": {},
   "outputs": [],
   "source": [
    "# Checks entities if multiple truck locations\n",
    "def count_locations(ents_arr):\n",
    "    count = 0\n",
    "    \n",
    "    for i in range(0,len(ents_arr)):\n",
    "        cur_ent_type = ents_arr[i][2]\n",
    "        if cur_ent_type == 'TRUCK_LOCATION':\n",
    "            count += 1\n",
    "    \n",
    "    return count\n",
    "    \n",
    "# Adds old NER tags to train data\n",
    "def append_old_ner(train_data):\n",
    "    for i in range(0,len(train_data)):\n",
    "        doc = nlp(train_data[i][0])\n",
    "        ents_arr = train_data[i][1]['entities']\n",
    "        locations_count = count_locations(ents_arr)\n",
    "\n",
    "        for ent in doc.ents:\n",
    "            start = int(ent.start_char)\n",
    "            end = int(ent.end_char)\n",
    "\n",
    "            # Cases\n",
    "            # < Start---End > Bound entire word and more\n",
    "            case1 = lambda: start <= truck_start and end >= truck_end\n",
    "            # < Start>---End< Bound entire left up to end\n",
    "            case2 = lambda: start <= truck_start and end <= truck_end and end >= truck_start\n",
    "            # >Start---<End > Bound entire right up to start\n",
    "            case3 = lambda: end >= truck_end and start >= truck_start and start <= truck_end\n",
    "            \n",
    "            if locations_count == 0:\n",
    "                ents_arr.append((start, end, ent.label_))\n",
    "            else:\n",
    "                continue_outer = False\n",
    "                for j in range(0,locations_count):\n",
    "                    truck_start = int(ents_arr[j][0])\n",
    "                    truck_end = int(ents_arr[j][1])\n",
    "                    \n",
    "                    if case1() or case2() or case3():\n",
    "                        continue_outer = True\n",
    "                        break\n",
    "                \n",
    "                if continue_outer:\n",
    "                    continue\n",
    "                else:\n",
    "                    ents_arr.append((start, end, ent.label_))\n",
    "                    \n",
    "    return train_data\n",
    "\n",
    "train_data = append_old_ner(train_data)"
   ]
  },
  {
   "cell_type": "code",
   "execution_count": 5,
   "metadata": {},
   "outputs": [
    {
     "name": "stdout",
     "output_type": "stream",
     "text": [
      "('Serving the BBQ at the China Town Metro. Across from The Capital One Areena. Southern Fried Fish + Shrimp &amp; Cheesy… https://t.co/cG1aPYOBvr', {'entities': [(23, 39, 'TRUCK_LOCATION'), (57, 75, 'TRUCK_LOCATION'), (12, 15, 'ORG'), (77, 107, 'LAW'), (112, 118, 'ORG')]})\n"
     ]
    }
   ],
   "source": [
    "# Validate old NER Tags\n",
    "print(train_data[638])"
   ]
  },
  {
   "cell_type": "code",
   "execution_count": 45,
   "metadata": {},
   "outputs": [],
   "source": [
    "# Load model if exists\n",
    "def load_model(model=None):\n",
    "    \"\"\"Load the model, set up the pipeline and train the entity recognizer.\"\"\"\n",
    "    if model is not None:\n",
    "        nlp = spacy.load(model)  # load existing spaCy model\n",
    "        print(\"Loaded model '%s'\" % model)\n",
    "    else:\n",
    "        nlp = spacy.blank(\"en\")  # create blank Language class\n",
    "        print(\"Created blank 'en' model\")\n",
    "    \n",
    "    return nlp\n",
    "\n",
    "# List of Names Entities\n",
    "# To be referenced later on\n",
    "move_names = []\n",
    "\n",
    "# Train update Spacy's NER\n",
    "def train_NER(train_data, iterations, model=None):\n",
    "    TRAIN_DATA = train_data\n",
    "    \n",
    "    # Set language to only Text in tweets\n",
    "    nlp = load_model(model)\n",
    "    \n",
    "    # create the built-in pipeline components and add them to the pipeline\n",
    "    # nlp.create_pipe works for built-ins that are registered with spaCy\n",
    "    if \"ner\" not in nlp.pipe_names:\n",
    "        ner = nlp.create_pipe(\"ner\")\n",
    "        nlp.add_pipe(ner, last=True)\n",
    "    # otherwise, get it so we can add labels\n",
    "    else:\n",
    "        ner = nlp.get_pi\n",
    "        \n",
    "    # add new labels eg: using TRUCK_LOCATION\n",
    "    for _, annotations in TRAIN_DATA:\n",
    "        for ent in annotations.get(\"entities\"):\n",
    "            ner.add_label(ent[2])\n",
    "            \n",
    "    # get names of other pipes to disable them during training\n",
    "    pipe_exceptions = [\"ner\", \"trf_wordpiecer\", \"trf_tok2vec\"]\n",
    "    other_pipes = [pipe for pipe in nlp.pipe_names if pipe not in pipe_exceptions]\n",
    "    \n",
    "    # only train NER\n",
    "    with nlp.disable_pipes(*other_pipes), warnings.catch_warnings():\n",
    "        # show warnings for misaligned entity spans once\n",
    "        warnings.filterwarnings(\"once\", category=UserWarning, module='spacy')\n",
    "\n",
    "        # reset and initialize the weights randomly – but only if we're\n",
    "        # training a new model\n",
    "        if model is None:\n",
    "            nlp.begin_training()\n",
    "        for itn in range(iterations):\n",
    "            random.shuffle(TRAIN_DATA)\n",
    "            losses = {}\n",
    "            # batch up the examples using spaCy's minibatch\n",
    "            batches = minibatch(TRAIN_DATA, size=compounding(4.0, 32.0, 1.001))\n",
    "            for batch in batches:\n",
    "                texts, annotations = zip(*batch)\n",
    "                nlp.update(\n",
    "                    texts,  # batch of texts\n",
    "                    annotations,  # batch of annotations\n",
    "                    drop=0.2,  # dropout - make it harder to memorise data\n",
    "                    losses=losses,\n",
    "                )\n",
    "            print(\"Losses\", losses)\n",
    "            \n",
    "    return nlp"
   ]
  },
  {
   "cell_type": "code",
   "execution_count": 27,
   "metadata": {},
   "outputs": [
    {
     "name": "stdout",
     "output_type": "stream",
     "text": [
      "Created blank 'en' model\n",
      "Warning: Unnamed vectors -- this won't allow multiple vectors models to be loaded. (Shape: (0, 0))\n",
      "Losses {'ner': 516.6613109470339}\n",
      "Losses {'ner': 328.3013192364618}\n",
      "Losses {'ner': 255.6622861891636}\n",
      "Losses {'ner': 217.89849494819507}\n",
      "Losses {'ner': 176.3370517709092}\n"
     ]
    }
   ],
   "source": [
    "# Train Data\n",
    "nlp = train_NER(train_data, 5)"
   ]
  },
  {
   "cell_type": "code",
   "execution_count": 28,
   "metadata": {},
   "outputs": [],
   "source": [
    "# Review NER Results\n",
    "def show_ents(doc):\n",
    "    doc = nlp(doc[0])\n",
    "    if doc.ents:\n",
    "        for ent in doc.ents:\n",
    "            print(ent.text + ' - ' + ent.label_)\n",
    "    else:\n",
    "        print('No entities found')"
   ]
  },
  {
   "cell_type": "code",
   "execution_count": 29,
   "metadata": {},
   "outputs": [
    {
     "name": "stdout",
     "output_type": "stream",
     "text": [
      "('Bringing the smoothies to ballston', {'entities': [(26, 34, 'TRUCK_LOCATION')]})\n",
      "\n",
      "ballston - TRUCK_LOCATION\n"
     ]
    }
   ],
   "source": [
    "# Test across subset of tweets\n",
    "# for i in range(0,10):\n",
    "#     show_ents(train_data[i])\n",
    "#     print(\"\")\n",
    "    \n",
    "print(train_data[74])\n",
    "print('')\n",
    "show_ents(train_data[74])"
   ]
  },
  {
   "cell_type": "code",
   "execution_count": 35,
   "metadata": {},
   "outputs": [
    {
     "name": "stdout",
     "output_type": "stream",
     "text": [
      "Entities in 'Today we are at 2nd Ave Parrish' \n",
      "\n",
      "DATE Today\n",
      "TRUCK_LOCATION 2nd Ave Parrish\n"
     ]
    }
   ],
   "source": [
    "# Manually test the trained model\n",
    "def test_model(nlp, test_text):\n",
    "    doc = nlp(test_text)\n",
    "    print(\"Entities in '%s' \\n\" % test_text )\n",
    "    for ent in doc.ents:\n",
    "        print(ent.label_, ent.text)\n",
    "        \n",
    "test_model(nlp, \"Today we are at 2nd Ave Parrish\")"
   ]
  },
  {
   "cell_type": "code",
   "execution_count": 46,
   "metadata": {},
   "outputs": [],
   "source": [
    "# Save model to output directory\n",
    "def save_model(nlp, output_dir, name):\n",
    "    if output_dir is not None:\n",
    "        output_dir = Path(output_dir)\n",
    "        \n",
    "        if not output_dir.exists():\n",
    "            output_dir.mkdir()\n",
    "            \n",
    "        nlp.meta[name] = name  # rename model\n",
    "        nlp.to_disk(output_dir)\n",
    "        print(\"Saved model to\", output_dir)\n",
    "\n",
    "def test_saved_model(model_dir, test_text):\n",
    "    # test the saved model\n",
    "    print(\"Loading from\", model_dir)\n",
    "    nlp = spacy.load(model_dir)\n",
    "\n",
    "    # Check the classes have loaded back consistently\n",
    "    # assert nlp.get_pipe(\"ner\").move_names == move_names\n",
    "    if nlp.get_pipe('ner').move_names[0] != 'B-TRUCK_LOCATION':\n",
    "        print('NER Pipe doesn\\'t have Truck Location')\n",
    "        return\n",
    "    \n",
    "    test_model(nlp, test_text)"
   ]
  },
  {
   "cell_type": "code",
   "execution_count": 48,
   "metadata": {},
   "outputs": [
    {
     "name": "stdout",
     "output_type": "stream",
     "text": [
      "Saved model to tweet_ner_model\n"
     ]
    }
   ],
   "source": [
    "save_model(nlp,'./tweet_ner_model','ner_1')"
   ]
  },
  {
   "cell_type": "code",
   "execution_count": 49,
   "metadata": {},
   "outputs": [
    {
     "name": "stdout",
     "output_type": "stream",
     "text": [
      "Loading from ./tweet_ner_model\n",
      "Entities in 'Today we are at 2nd Ave Parrish' \n",
      "\n",
      "DATE Today\n",
      "TRUCK_LOCATION 2nd Ave Parrish\n"
     ]
    }
   ],
   "source": [
    "test_saved_model('./tweet_ner_model', \"Today we are at 2nd Ave Parrish\")"
   ]
  },
  {
   "cell_type": "code",
   "execution_count": 64,
   "metadata": {},
   "outputs": [],
   "source": [
    "# Import Assertion Model\n",
    "# Import NER Model\n",
    "# Injest tweet\n",
    "# Init Blank response model\n",
    "# Assert it\n",
    "#     If Pass\n",
    "#         NER it\n",
    "#           If NER has Locations\n",
    "#             build location NER response\n",
    "#           Else\n",
    "#             build failed NER response\n",
    "#     Else\n",
    "#         build failed response\n",
    "# Return response\n",
    "\n",
    "# Imports & Dependencies\n",
    "from __future__ import unicode_literals, print_function\n",
    "\n",
    "import plac\n",
    "import random\n",
    "import warnings\n",
    "from pathlib import Path\n",
    "import spacy\n",
    "from spacy.util import minibatch, compounding\n",
    "\n",
    "class AssertModel:\n",
    "#     nlp_ner # NLP custom NER model\n",
    "#     nlp_affirmation # NLP affirmation model\n",
    "    \n",
    "    def __init__(self, ner_model_path, affirmation_model_path):\n",
    "        try:\n",
    "            self.nlp_ner = spacy.load(ner_model_path)\n",
    "        except ModuleNotFoundError:\n",
    "            raise\n",
    "            \n",
    "        try:\n",
    "            self.nlp_affirmation = spacy.load(affirmation_model_path)\n",
    "        except ModuleNotFoundError:\n",
    "            raise\n",
    "            \n",
    "    def assert_tweet(self, tweet):\n",
    "        print('lol')\n",
    "        return False"
   ]
  },
  {
   "cell_type": "code",
   "execution_count": 65,
   "metadata": {},
   "outputs": [
    {
     "ename": "OSError",
     "evalue": "[E050] Can't find model './lol'. It doesn't seem to be a shortcut link, a Python package or a valid path to a data directory.",
     "output_type": "error",
     "traceback": [
      "\u001b[0;31m---------------------------------------------------------------------------\u001b[0m",
      "\u001b[0;31mOSError\u001b[0m                                   Traceback (most recent call last)",
      "\u001b[0;32m<ipython-input-65-c7089b091155>\u001b[0m in \u001b[0;36m<module>\u001b[0;34m\u001b[0m\n\u001b[0;32m----> 1\u001b[0;31m \u001b[0mmodel\u001b[0m \u001b[0;34m=\u001b[0m \u001b[0mAssertModel\u001b[0m\u001b[0;34m(\u001b[0m\u001b[0;34m'./tweet_ner_model'\u001b[0m\u001b[0;34m,\u001b[0m \u001b[0;34m'./lol'\u001b[0m\u001b[0;34m)\u001b[0m\u001b[0;34m\u001b[0m\u001b[0;34m\u001b[0m\u001b[0m\n\u001b[0m\u001b[1;32m      2\u001b[0m \u001b[0;34m\u001b[0m\u001b[0m\n\u001b[1;32m      3\u001b[0m \u001b[0mmodel\u001b[0m\u001b[0;34m.\u001b[0m\u001b[0massert_tweet\u001b[0m\u001b[0;34m(\u001b[0m\u001b[0;34m)\u001b[0m\u001b[0;34m\u001b[0m\u001b[0;34m\u001b[0m\u001b[0m\n",
      "\u001b[0;32m<ipython-input-64-66cb570a9412>\u001b[0m in \u001b[0;36m__init__\u001b[0;34m(self, ner_model_path, affirmation_model_path)\u001b[0m\n\u001b[1;32m     35\u001b[0m \u001b[0;34m\u001b[0m\u001b[0m\n\u001b[1;32m     36\u001b[0m         \u001b[0;32mtry\u001b[0m\u001b[0;34m:\u001b[0m\u001b[0;34m\u001b[0m\u001b[0;34m\u001b[0m\u001b[0m\n\u001b[0;32m---> 37\u001b[0;31m             \u001b[0mself\u001b[0m\u001b[0;34m.\u001b[0m\u001b[0mnlp_affirmation\u001b[0m \u001b[0;34m=\u001b[0m \u001b[0mspacy\u001b[0m\u001b[0;34m.\u001b[0m\u001b[0mload\u001b[0m\u001b[0;34m(\u001b[0m\u001b[0maffirmation_model_path\u001b[0m\u001b[0;34m)\u001b[0m\u001b[0;34m\u001b[0m\u001b[0;34m\u001b[0m\u001b[0m\n\u001b[0m\u001b[1;32m     38\u001b[0m         \u001b[0;32mexcept\u001b[0m \u001b[0mModuleNotFoundError\u001b[0m\u001b[0;34m:\u001b[0m\u001b[0;34m\u001b[0m\u001b[0;34m\u001b[0m\u001b[0m\n\u001b[1;32m     39\u001b[0m             \u001b[0mprint\u001b[0m\u001b[0;34m(\u001b[0m\u001b[0;34m'lol'\u001b[0m\u001b[0;34m)\u001b[0m\u001b[0;34m\u001b[0m\u001b[0;34m\u001b[0m\u001b[0m\n",
      "\u001b[0;32m~/anaconda3/envs/nlp_course/lib/python3.7/site-packages/spacy/__init__.py\u001b[0m in \u001b[0;36mload\u001b[0;34m(name, **overrides)\u001b[0m\n\u001b[1;32m     19\u001b[0m     \u001b[0;32mif\u001b[0m \u001b[0mdepr_path\u001b[0m \u001b[0;32mnot\u001b[0m \u001b[0;32min\u001b[0m \u001b[0;34m(\u001b[0m\u001b[0;32mTrue\u001b[0m\u001b[0;34m,\u001b[0m \u001b[0;32mFalse\u001b[0m\u001b[0;34m,\u001b[0m \u001b[0;32mNone\u001b[0m\u001b[0;34m)\u001b[0m\u001b[0;34m:\u001b[0m\u001b[0;34m\u001b[0m\u001b[0;34m\u001b[0m\u001b[0m\n\u001b[1;32m     20\u001b[0m         \u001b[0mdeprecation_warning\u001b[0m\u001b[0;34m(\u001b[0m\u001b[0mWarnings\u001b[0m\u001b[0;34m.\u001b[0m\u001b[0mW001\u001b[0m\u001b[0;34m.\u001b[0m\u001b[0mformat\u001b[0m\u001b[0;34m(\u001b[0m\u001b[0mpath\u001b[0m\u001b[0;34m=\u001b[0m\u001b[0mdepr_path\u001b[0m\u001b[0;34m)\u001b[0m\u001b[0;34m)\u001b[0m\u001b[0;34m\u001b[0m\u001b[0;34m\u001b[0m\u001b[0m\n\u001b[0;32m---> 21\u001b[0;31m     \u001b[0;32mreturn\u001b[0m \u001b[0mutil\u001b[0m\u001b[0;34m.\u001b[0m\u001b[0mload_model\u001b[0m\u001b[0;34m(\u001b[0m\u001b[0mname\u001b[0m\u001b[0;34m,\u001b[0m \u001b[0;34m**\u001b[0m\u001b[0moverrides\u001b[0m\u001b[0;34m)\u001b[0m\u001b[0;34m\u001b[0m\u001b[0;34m\u001b[0m\u001b[0m\n\u001b[0m\u001b[1;32m     22\u001b[0m \u001b[0;34m\u001b[0m\u001b[0m\n\u001b[1;32m     23\u001b[0m \u001b[0;34m\u001b[0m\u001b[0m\n",
      "\u001b[0;32m~/anaconda3/envs/nlp_course/lib/python3.7/site-packages/spacy/util.py\u001b[0m in \u001b[0;36mload_model\u001b[0;34m(name, **overrides)\u001b[0m\n\u001b[1;32m    117\u001b[0m     \u001b[0;32melif\u001b[0m \u001b[0mhasattr\u001b[0m\u001b[0;34m(\u001b[0m\u001b[0mname\u001b[0m\u001b[0;34m,\u001b[0m \u001b[0;34m'exists'\u001b[0m\u001b[0;34m)\u001b[0m\u001b[0;34m:\u001b[0m  \u001b[0;31m# Path or Path-like to model data\u001b[0m\u001b[0;34m\u001b[0m\u001b[0;34m\u001b[0m\u001b[0m\n\u001b[1;32m    118\u001b[0m         \u001b[0;32mreturn\u001b[0m \u001b[0mload_model_from_path\u001b[0m\u001b[0;34m(\u001b[0m\u001b[0mname\u001b[0m\u001b[0;34m,\u001b[0m \u001b[0;34m**\u001b[0m\u001b[0moverrides\u001b[0m\u001b[0;34m)\u001b[0m\u001b[0;34m\u001b[0m\u001b[0;34m\u001b[0m\u001b[0m\n\u001b[0;32m--> 119\u001b[0;31m     \u001b[0;32mraise\u001b[0m \u001b[0mIOError\u001b[0m\u001b[0;34m(\u001b[0m\u001b[0mErrors\u001b[0m\u001b[0;34m.\u001b[0m\u001b[0mE050\u001b[0m\u001b[0;34m.\u001b[0m\u001b[0mformat\u001b[0m\u001b[0;34m(\u001b[0m\u001b[0mname\u001b[0m\u001b[0;34m=\u001b[0m\u001b[0mname\u001b[0m\u001b[0;34m)\u001b[0m\u001b[0;34m)\u001b[0m\u001b[0;34m\u001b[0m\u001b[0;34m\u001b[0m\u001b[0m\n\u001b[0m\u001b[1;32m    120\u001b[0m \u001b[0;34m\u001b[0m\u001b[0m\n\u001b[1;32m    121\u001b[0m \u001b[0;34m\u001b[0m\u001b[0m\n",
      "\u001b[0;31mOSError\u001b[0m: [E050] Can't find model './lol'. It doesn't seem to be a shortcut link, a Python package or a valid path to a data directory."
     ]
    }
   ],
   "source": [
    "model = AssertModel('./tweet_ner_model', './lol')\n",
    "\n",
    "model.assert_tweet()"
   ]
  },
  {
   "cell_type": "code",
   "execution_count": null,
   "metadata": {},
   "outputs": [],
   "source": []
  }
 ],
 "metadata": {
  "kernelspec": {
   "display_name": "Python [conda env:nlp_course] *",
   "language": "python",
   "name": "conda-env-nlp_course-py"
  },
  "language_info": {
   "codemirror_mode": {
    "name": "ipython",
    "version": 3
   },
   "file_extension": ".py",
   "mimetype": "text/x-python",
   "name": "python",
   "nbconvert_exporter": "python",
   "pygments_lexer": "ipython3",
   "version": "3.7.9"
  }
 },
 "nbformat": 4,
 "nbformat_minor": 4
}
