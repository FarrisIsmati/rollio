{
 "cells": [
  {
   "cell_type": "code",
   "execution_count": 4,
   "metadata": {},
   "outputs": [],
   "source": [
    "# Imports Train\n",
    "PATH = './tweet_model'\n",
    "from tweet_ner_data_label import train_data"
   ]
  },
  {
   "cell_type": "code",
   "execution_count": 5,
   "metadata": {},
   "outputs": [],
   "source": [
    "# Imports & Dependencies\n",
    "from __future__ import unicode_literals, print_function\n",
    "\n",
    "import plac\n",
    "import random\n",
    "import warnings\n",
    "from pathlib import Path\n",
    "import spacy\n",
    "from spacy.util import minibatch, compounding"
   ]
  },
  {
   "cell_type": "code",
   "execution_count": null,
   "metadata": {},
   "outputs": [],
   "source": [
    "# Update original data to include Normal NER Tags to prevent forgetting problem\n"
   ]
  },
  {
   "cell_type": "code",
   "execution_count": 6,
   "metadata": {},
   "outputs": [],
   "source": [
    "# Load model if exists\n",
    "def load_model(model=None):\n",
    "    \"\"\"Load the model, set up the pipeline and train the entity recognizer.\"\"\"\n",
    "    if model is not None:\n",
    "        nlp = spacy.load(model)  # load existing spaCy model\n",
    "        print(\"Loaded model '%s'\" % model)\n",
    "    else:\n",
    "        nlp = spacy.blank(\"en\")  # create blank Language class\n",
    "        print(\"Created blank 'en' model\")\n",
    "    \n",
    "    return nlp\n",
    "\n",
    "# Train update Spacy's NER\n",
    "def train_NER(train_data, iterations, model=None):\n",
    "    TRAIN_DATA = train_data\n",
    "    \n",
    "    # Set language to only Text in tweets\n",
    "    nlp = load_model(model)\n",
    "    \n",
    "    # create the built-in pipeline components and add them to the pipeline\n",
    "    # nlp.create_pipe works for built-ins that are registered with spaCy\n",
    "    if \"ner\" not in nlp.pipe_names:\n",
    "        ner = nlp.create_pipe(\"ner\")\n",
    "        nlp.add_pipe(ner, last=True)\n",
    "    # otherwise, get it so we can add labels\n",
    "    else:\n",
    "        ner = nlp.get_pi\n",
    "        \n",
    "    # add new labels eg: using VENDOR_LOCATION\n",
    "    for _, annotations in TRAIN_DATA:\n",
    "        for ent in annotations.get(\"entities\"):\n",
    "            ner.add_label(ent[2])\n",
    "    \n",
    "    # get names of other pipes to disable them during training\n",
    "    pipe_exceptions = [\"ner\", \"trf_wordpiecer\", \"trf_tok2vec\"]\n",
    "    other_pipes = [pipe for pipe in nlp.pipe_names if pipe not in pipe_exceptions]\n",
    "    \n",
    "    # only train NER\n",
    "    with nlp.disable_pipes(*other_pipes), warnings.catch_warnings():\n",
    "        # show warnings for misaligned entity spans once\n",
    "        warnings.filterwarnings(\"once\", category=UserWarning, module='spacy')\n",
    "\n",
    "        # reset and initialize the weights randomly – but only if we're\n",
    "        # training a new model\n",
    "        if model is None:\n",
    "            nlp.begin_training()\n",
    "        for itn in range(iterations):\n",
    "            random.shuffle(TRAIN_DATA)\n",
    "            losses = {}\n",
    "            # batch up the examples using spaCy's minibatch\n",
    "            batches = minibatch(TRAIN_DATA, size=compounding(4.0, 32.0, 1.001))\n",
    "            for batch in batches:\n",
    "                texts, annotations = zip(*batch)\n",
    "                nlp.update(\n",
    "                    texts,  # batch of texts\n",
    "                    annotations,  # batch of annotations\n",
    "                    drop=0.2,  # dropout - make it harder to memorise data\n",
    "                    losses=losses,\n",
    "                )\n",
    "            print(\"Losses\", losses)\n",
    "            \n",
    "    return nlp"
   ]
  },
  {
   "cell_type": "code",
   "execution_count": 7,
   "metadata": {},
   "outputs": [
    {
     "name": "stdout",
     "output_type": "stream",
     "text": [
      "Created blank 'en' model\n",
      "Warning: Unnamed vectors -- this won't allow multiple vectors models to be loaded. (Shape: (0, 0))\n",
      "Losses {'ner': 130.8053908538856}\n"
     ]
    }
   ],
   "source": [
    "# Train Data\n",
    "nlp = train_NER(train_data, 1)"
   ]
  },
  {
   "cell_type": "code",
   "execution_count": 10,
   "metadata": {},
   "outputs": [],
   "source": [
    "# Review NER Results\n",
    "def show_ents(doc):\n",
    "    doc = nlp(doc[0])\n",
    "    if doc.ents:\n",
    "        for ent in doc.ents:\n",
    "            print(ent.text + ' - ' + ent.label_)\n",
    "    else:\n",
    "        print('No entities found')"
   ]
  },
  {
   "cell_type": "code",
   "execution_count": 11,
   "metadata": {},
   "outputs": [
    {
     "name": "stdout",
     "output_type": "stream",
     "text": [
      "China - TRUCK_LOCATION\n",
      "town - TRUCK_LOCATION\n",
      "7th &amp; G st - TRUCK_LOCATION\n",
      "\n",
      "Research Laboratory:4555 Overlook Ave SW - TRUCK_LOCATION\n",
      "\n",
      "No entities found\n",
      "\n",
      "No entities found\n",
      "\n",
      "No entities found\n",
      "\n",
      "No entities found\n",
      "\n",
      "Union Station - TRUCK_LOCATION\n",
      "\n",
      "union station.#2 - TRUCK_LOCATION\n",
      "l'enfant plaza.#3 - TRUCK_LOCATION\n",
      "metro center - TRUCK_LOCATION\n",
      "\n",
      "Choripan - TRUCK_LOCATION\n",
      "\n",
      "2nd &amp; M St. SE - TRUCK_LOCATION\n",
      "\n",
      "11th and F - TRUCK_LOCATION\n",
      "\n",
      "12 and H - TRUCK_LOCATION\n",
      "\n",
      "STATE DEPARTMENT - TRUCK_LOCATION\n",
      "CHINATOWN - TRUCK_LOCATION\n",
      "METRO CENTER - TRUCK_LOCATION\n",
      "BALLSTON ARLINGTON - TRUCK_LOCATION\n",
      "\n",
      "No entities found\n",
      "\n",
      "No entities found\n",
      "\n",
      "Friendship Heights - TRUCK_LOCATION\n",
      "\n",
      "waterfront metro - TRUCK_LOCATION\n",
      "station - TRUCK_LOCATION\n",
      "\n",
      "Noma - TRUCK_LOCATION\n",
      "\n",
      "No entities found\n",
      "\n",
      "No entities found\n",
      "\n",
      "No entities found\n",
      "\n",
      "No entities found\n",
      "\n",
      "No entities found\n",
      "\n",
      "Tysons Galleria - TRUCK_LOCATION\n",
      "\n",
      "Union Station - TRUCK_LOCATION\n",
      "\n"
     ]
    }
   ],
   "source": [
    "# Test across subset of tweets\n",
    "for i in range(250,275):\n",
    "    show_ents(train_data[i])\n",
    "    print(\"\")"
   ]
  },
  {
   "cell_type": "code",
   "execution_count": 14,
   "metadata": {},
   "outputs": [
    {
     "name": "stdout",
     "output_type": "stream",
     "text": [
      "Entities in 'Today we are at Farragut Square'\n",
      "TRUCK_LOCATION Farragut Square\n"
     ]
    }
   ],
   "source": [
    "# Manually test the trained model\n",
    "test_text = \"Today we are at Farragut Square\"\n",
    "doc = nlp(test_text)\n",
    "print(\"Entities in '%s'\" % test_text)\n",
    "for ent in doc.ents:\n",
    "    print(ent.label_, ent.text)"
   ]
  },
  {
   "cell_type": "code",
   "execution_count": null,
   "metadata": {},
   "outputs": [],
   "source": [
    "# Save model to output directory\n",
    "def save_model(nlp, output_dir, name):\n",
    "    if output_dir is not None:\n",
    "        output_dir = Path(output_dir)\n",
    "        if not output_dir.exists():\n",
    "            output_dir.mkdir()\n",
    "        nlp.meta[name] = new_model_name  # rename model\n",
    "        nlp.to_disk(output_dir)\n",
    "        print(\"Saved model to\", output_dir)\n",
    "\n",
    "        # test the saved model\n",
    "        print(\"Loading from\", output_dir)\n",
    "        nlp2 = spacy.load(output_dir)\n",
    "        # Check the classes have loaded back consistently\n",
    "        assert nlp2.get_pipe(\"ner\").move_names == move_names\n",
    "        doc2 = nlp2(test_text)\n",
    "        for ent in doc2.ents:\n",
    "            print(ent.label_, ent.text)"
   ]
  },
  {
   "cell_type": "code",
   "execution_count": null,
   "metadata": {},
   "outputs": [],
   "source": [
    "save_model(nlp, './tweet_model','ner_1')"
   ]
  }
 ],
 "metadata": {
  "kernelspec": {
   "display_name": "Python [conda env:nlp_course] *",
   "language": "python",
   "name": "conda-env-nlp_course-py"
  },
  "language_info": {
   "codemirror_mode": {
    "name": "ipython",
    "version": 3
   },
   "file_extension": ".py",
   "mimetype": "text/x-python",
   "name": "python",
   "nbconvert_exporter": "python",
   "pygments_lexer": "ipython3",
   "version": "3.7.9"
  }
 },
 "nbformat": 4,
 "nbformat_minor": 4
}
